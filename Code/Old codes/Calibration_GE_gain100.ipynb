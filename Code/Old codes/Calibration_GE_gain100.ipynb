{
  "nbformat": 4,
  "nbformat_minor": 0,
  "metadata": {
    "colab": {
      "name": "Calibration_GE_gain100.ipynb",
      "provenance": [],
      "collapsed_sections": []
    },
    "kernelspec": {
      "name": "python3",
      "display_name": "Python 3"
    },
    "language_info": {
      "name": "python"
    }
  },
  "cells": [
    {
      "cell_type": "code",
      "execution_count": 1,
      "metadata": {
        "id": "7lJ9G4FjkOlb"
      },
      "outputs": [],
      "source": [
        "#librerie\n",
        "import numpy as np\n",
        "import matplotlib.pyplot as plt\n",
        "import xml.etree.ElementTree as ET\n",
        "from google.colab import drive\n",
        "from scipy import integrate\n",
        "from time import sleep\n",
        "from scipy.optimize import curve_fit"
      ]
    },
    {
      "cell_type": "code",
      "source": [
        "drive.mount('/content/drive')"
      ],
      "metadata": {
        "colab": {
          "base_uri": "https://localhost:8080/"
        },
        "id": "sib6PtvckULE",
        "outputId": "489e50f6-8ea0-4f47-dc09-87e05bf5a901"
      },
      "execution_count": 2,
      "outputs": [
        {
          "output_type": "stream",
          "name": "stdout",
          "text": [
            "Mounted at /content/drive\n"
          ]
        }
      ]
    },
    {
      "cell_type": "code",
      "source": [
        "path=\"drive/MyDrive/Lab HPGE/Data/\"\n",
        "nomefile=\"Spectrum_Ge_Ba133_2000_g100_tot_timeaxis.txt\" \n",
        "\n",
        "f=open(path+nomefile,\"r\")\n",
        "lines=f.readlines() #leggo linee del file\n",
        "colonna1=[]\n",
        "for riga in lines:\n",
        "    colonna1.append(riga.split()[0])\n",
        "f.close()\n",
        "\n",
        "all_integrals_values = np.asarray(colonna1, dtype=np.float64)\n",
        "len(all_integrals_values)"
      ],
      "metadata": {
        "colab": {
          "base_uri": "https://localhost:8080/"
        },
        "id": "BnTH1GLDkWmL",
        "outputId": "89ce4eb5-d5e7-4d52-cbdb-b5429a3fa4c4"
      },
      "execution_count": 8,
      "outputs": [
        {
          "output_type": "execute_result",
          "data": {
            "text/plain": [
              "63540"
            ]
          },
          "metadata": {},
          "execution_count": 8
        }
      ]
    },
    {
      "cell_type": "code",
      "source": [
        "#histogram of the spectrum for all data of Barium\n",
        "\n",
        "numb_bins=150 #try to change this maybe\n",
        "\n",
        "histogramma=plt.hist(all_integrals_values,bins=numb_bins,histtype=\"step\")\n",
        "#plt.ylim(0,700)   #to cut the y axis \n",
        "#plt.xlim(0.05,0.15) #primi picchi\n",
        "#plt.xlim(0.08,0.12) #ultimi picchi\n",
        "#plt.yscale(\"log\")\n",
        "\n",
        "\n",
        "\n",
        "\n",
        "#plt.xlim(0.15,0.17)\n",
        "plt.show()"
      ],
      "metadata": {
        "colab": {
          "base_uri": "https://localhost:8080/",
          "height": 264
        },
        "id": "8nqjohkgkYs0",
        "outputId": "99d123c1-da3c-4be0-8bff-4e6aa5d1b427"
      },
      "execution_count": 277,
      "outputs": [
        {
          "output_type": "display_data",
          "data": {
            "text/plain": [
              "<Figure size 432x288 with 1 Axes>"
            ],
            "image/png": "[encoded data removed]"
          },
          "metadata": {
            "needs_background": "light"
          }
        }
      ]
    },
    {
      "cell_type": "code",
      "source": [
        "def gaussian(x, N, mu,sigma,h):\n",
        "    return N * np.exp(-0.5*((x-mu)/sigma)**2)+h"
      ],
      "metadata": {
        "id": "3NRpYgJB48IQ"
      },
      "execution_count": 181,
      "outputs": []
    },
    {
      "cell_type": "code",
      "source": [
        "value_53keV=histogramma[0]\n",
        "center_53keV=[0.5*(histogramma[1][i]+histogramma[1][i+1]) for i in range(len(histogramma[1])-1)]\n",
        "center_53keV=np.array(center_53keV)"
      ],
      "metadata": {
        "id": "AebIPZ_9120Y"
      },
      "execution_count": 182,
      "outputs": []
    },
    {
      "cell_type": "code",
      "source": [
        "plt.plot(center_53keV[197:208],value_53keV[197:208],ls=\"\",marker=\"x\")"
      ],
      "metadata": {
        "colab": {
          "base_uri": "https://localhost:8080/",
          "height": 283
        },
        "id": "Zd4T0OL-7qJf",
        "outputId": "76847572-7d5c-4e6a-d1bf-118c3b6a34b7"
      },
      "execution_count": 189,
      "outputs": [
        {
          "output_type": "execute_result",
          "data": {
            "text/plain": [
              "[<matplotlib.lines.Line2D at 0x7f5231ae8750>]"
            ]
          },
          "metadata": {},
          "execution_count": 189
        },
        {
          "output_type": "display_data",
          "data": {
            "text/plain": [
              "<Figure size 432x288 with 1 Axes>"
            ],
            "image/png": "[encoded data removed]"
          },
          "metadata": {
            "needs_background": "light"
          }
        }
      ]
    },
    {
      "cell_type": "code",
      "source": [
        "init_vals = [140,0.48 ,0.007,60]\n",
        "best_vals, covar = curve_fit(gaussian, center_53keV[197:208], value_53keV[197:208],p0=init_vals) "
      ],
      "metadata": {
        "id": "BdDBJJA_7m03"
      },
      "execution_count": 190,
      "outputs": []
    },
    {
      "cell_type": "code",
      "source": [
        "plt.plot(center_53keV[197:208],value_53keV[197:208],ls=\"\",marker=\"x\")\n",
        "x=np.linspace(0.47,0.495,1000)\n",
        "plt.plot(x,gaussian(x,*best_vals))\n"
      ],
      "metadata": {
        "colab": {
          "base_uri": "https://localhost:8080/",
          "height": 284
        },
        "id": "LAdIyRk7367H",
        "outputId": "bfb4ae77-8938-4037-c338-8dc6ec96fb71"
      },
      "execution_count": 191,
      "outputs": [
        {
          "output_type": "execute_result",
          "data": {
            "text/plain": [
              "[<matplotlib.lines.Line2D at 0x7f5231a5d190>]"
            ]
          },
          "metadata": {},
          "execution_count": 191
        },
        {
          "output_type": "display_data",
          "data": {
            "text/plain": [
              "<Figure size 432x288 with 1 Axes>"
            ],
            "image/png": "[encoded data removed]"
          },
          "metadata": {
            "needs_background": "light"
          }
        }
      ]
    },
    {
      "cell_type": "code",
      "source": [
        "mu_383kev=best_vals[1]\n",
        "sigma_383kev=best_vals[2]"
      ],
      "metadata": {
        "id": "0w7RN94eBjwF"
      },
      "execution_count": null,
      "outputs": []
    },
    {
      "cell_type": "markdown",
      "source": [
        "Calibrazione dello spettro"
      ],
      "metadata": {
        "id": "sbje_gHBG_TI"
      }
    },
    {
      "cell_type": "code",
      "source": [
        "#TABELLE Ba133"
      ],
      "metadata": {
        "id": "sBHV9eNlN0k0"
      },
      "execution_count": null,
      "outputs": []
    },
    {
      "cell_type": "code",
      "source": [
        "#Gammas from 133Ba (10.51 y 5)\n",
        "\n",
        "# Eg (keV)    Ig (%)    Decay mode\n",
        "\n",
        "# 53.161 1 \t  2.199 22 \t    e ###\n",
        "# 79.6139 26 \t2.62 6 \t      e \n",
        "# 80.9971 14 \t34.06 27 \t    e ###\n",
        "# 160.613 8 \t0.645 8 \t    e \n",
        "# 223.234 12 \t0.450 4 \t    e \n",
        "# 276.398 2 \t7.164 22 \t    e ###\n",
        "# 302.853 1 \t18.33 6 \t    e #\n",
        "# 356.017 2 \t62.05 19 \t    e ###\n",
        "# 383.851 3 \t8.94 3 \t        e #"
      ],
      "metadata": {
        "id": "dTQQEICCG-YR"
      },
      "execution_count": null,
      "outputs": []
    },
    {
      "cell_type": "code",
      "source": [
        "# X-rays from 133Ba (10.51 y 5)\n",
        "# E (keV)   \tI (%)    \tAssignment\n",
        "# 3,795  \t0.24 3  \tCs Ll\n",
        "# 4,142  \t0.110 11  \tCs Lh\n",
        "# 4,272  \t0.66 8  \tCs La2\n",
        "# 4,286  \t6.0 7  \tCs La1\n",
        "# 4,620  \t3.8 4  \tCs Lb1\n",
        "# 4,649  \t0.56 11  \tCs Lb4\n",
        "# 4,717  \t0.93 19  \tCs Lb3\n",
        "# 4,781  \t0.048 6  \tCs Lb6\n",
        "# 4,934  \t1.19 14  \tCs Lb2\n",
        "# 5,281  \t0.54 6  \tCs Lg1\n",
        "# 5,542  \t0.15 3  \tCs Lg2\n",
        "# 5,553  \t0.22 5  \tCs Lg3\n",
        "# 30,270  0.00401 14  Cs Ka3\n",
        "# 30,625  \t34.9 9  \tCs Ka2\n",
        "# 30,973  \t64.5 17  \tCs Ka1 ###\n",
        "# 34,920  \t5.99 16  \tCs Kb3\n",
        "# 34,987  \t11.6 3  \tCs Kb1\n",
        "# 35,252  \t0.123 5  \tCs Kb5\n",
        "# 35,818  \t3.58 9  \tCs Kb2\n",
        "# 35,907  \t0.74 3  \tCs Kb4"
      ],
      "metadata": {
        "id": "eIwxIQjwKu8-"
      },
      "execution_count": null,
      "outputs": []
    },
    {
      "cell_type": "code",
      "source": [
        "#picchi più alti per Ba133 estrapolati dalle tabelle\n",
        "\n",
        "E_real_peaks=[30.920,53.161,80.9971,223.234276.398,302.85,356.017] #keV\n",
        "E_real_peaks=np.array(E_real_peaks)\n",
        "\n",
        "#stima spacca e pesa dal grafico -->incertezza notevole\n",
        "\n",
        "x_uncalibrated_peaks=[0.06,0.1,0.16,0.445,0.46,0.485,0.495] #scala non calibrata\n",
        "x_uncalibrated_peaks=np.array(x_uncalibrated_peaks)"
      ],
      "metadata": {
        "id": "8zho8xzALw9n"
      },
      "execution_count": 15,
      "outputs": []
    },
    {
      "cell_type": "code",
      "source": [
        "def linear(x, m, q):\n",
        "  return m*x+q\n",
        "\n",
        "#fitting \n",
        "init_vals = [1000,20]  # for [N,mu, wid]\n",
        "best_vals, covar = curve_fit(linear, x_uncalibrated_peaks, E_real_peaks,p0=init_vals) \n",
        "\n",
        "\n",
        "plt.plot(x_uncalibrated_peaks,E_real_peaks,ls=\"\",marker=\".\")\n",
        "plt.plot(x_uncalibrated_peaks,linear(x_uncalibrated_peaks,best_vals[0],best_vals[1]))\n",
        "print(best_vals[0],best_vals[1])"
      ],
      "metadata": {
        "colab": {
          "base_uri": "https://localhost:8080/",
          "height": 286
        },
        "id": "GUSd2-XHN84B",
        "outputId": "3827e964-25ca-4b88-e3a2-2cea870b58c4"
      },
      "execution_count": 16,
      "outputs": [
        {
          "output_type": "stream",
          "name": "stdout",
          "text": [
            "757.3232174834792 -26.52908493613559\n"
          ]
        },
        {
          "output_type": "display_data",
          "data": {
            "text/plain": [
              "<Figure size 432x288 with 1 Axes>"
            ],
            "image/png": "[encoded data removed]"
          },
          "metadata": {
            "needs_background": "light"
          }
        }
      ]
    },
    {
      "cell_type": "code",
      "source": [
        "mu_80kev=best_vals[1]\n",
        "sigma_80kev=best_vals[2]\n"
      ],
      "metadata": {
        "id": "AdfWP_BI8wFe"
      },
      "execution_count": 137,
      "outputs": []
    },
    {
      "cell_type": "code",
      "source": [
        "mu_30kev=best_vals[1]\n",
        "sigma_30kev=best_vals[2]"
      ],
      "metadata": {
        "id": "EA5jv_Dc6TL3"
      },
      "execution_count": 104,
      "outputs": []
    },
    {
      "cell_type": "code",
      "source": [
        "mu_53kev=best_vals[1]\n",
        "sigma_53kev=best_vals[2]"
      ],
      "metadata": {
        "id": "8mYqMYNh8rhn"
      },
      "execution_count": 121,
      "outputs": []
    },
    {
      "cell_type": "code",
      "source": [
        "mu_276kev=best_vals[1]\n",
        "sigma_276kev=best_vals[2]"
      ],
      "metadata": {
        "id": "YEfLl4fJ8wUe"
      },
      "execution_count": 163,
      "outputs": []
    },
    {
      "cell_type": "code",
      "source": [
        "mu_302kev=best_vals[1]\n",
        "sigma_302kev=best_vals[2]"
      ],
      "metadata": {
        "id": "E_HBARXw_2D2"
      },
      "execution_count": 173,
      "outputs": []
    },
    {
      "cell_type": "code",
      "source": [
        "mu_356kev=best_vals[1]\n",
        "sigma_356kev=best_vals[2]"
      ],
      "metadata": {
        "id": "iJfsCnd5Amal"
      },
      "execution_count": 192,
      "outputs": []
    },
    {
      "cell_type": "code",
      "source": [
        "mu_cal=[mu_30kev,mu_53kev,mu_80kev,mu_276kev,mu_302kev,mu_356kev]\n",
        "sigma_cal=[sigma_30kev,sigma_53kev,sigma_80kev,sigma_276kev,sigma_302kev,sigma_356kev]"
      ],
      "metadata": {
        "id": "E_AqRZmpBoW8"
      },
      "execution_count": 256,
      "outputs": []
    },
    {
      "cell_type": "code",
      "source": [
        "mu_cal=np.array(0.0486,0.09703,0.1606,0.444,0.45877,0.48828)\n",
        "sigma_cal=np.array(0.00338,0.00305,0.00305,0.00069,0.00176,0.001767)\n",
        "\n",
        "E_real_peaks=[30.920,53.161,80.9971,223.234,276.398,302.853] #keV\n",
        "E_real_peaks=np.array(E_real_peaks)"
      ],
      "metadata": {
        "id": "4Jf3Ct-8C700"
      },
      "execution_count": 262,
      "outputs": []
    },
    {
      "cell_type": "code",
      "source": [
        "def linear(x, m,q):\n",
        "  return m*x+q\n",
        "\n",
        "#fitting \n",
        "init_vals = [1000,20]  # for [N,mu, wid]\n",
        "best_vals, covar = curve_fit(linear,E_real_peaks[0:4], mu_cal[0:4],p0=init_vals,sigma=sigma_cal[0:4]) \n",
        "\n",
        "x_cal=np.linspace(0,400)\n",
        "\n",
        "plt.errorbar(E_real_peaks,mu_cal,yerr=sigma_cal,fmt=\".\")\n",
        "plt.plot(x_cal,linear(x_cal,0.0020366109618458624,-0.010210032245539177))\n",
        "print(best_vals[0],best_vals[1])\n",
        "plt.xlim(0,380)\n",
        "plt.ylim(0,0.5)"
      ],
      "metadata": {
        "colab": {
          "base_uri": "https://localhost:8080/",
          "height": 305
        },
        "id": "ylHNh6KXCxUl",
        "outputId": "b44695a6-9a15-41d6-a58e-1c4472e7f1aa"
      },
      "execution_count": 267,
      "outputs": [
        {
          "output_type": "stream",
          "name": "stdout",
          "text": [
            "0.0020366109618458624 -0.010210032245539177\n"
          ]
        },
        {
          "output_type": "execute_result",
          "data": {
            "text/plain": [
              "(0.0, 0.5)"
            ]
          },
          "metadata": {},
          "execution_count": 267
        },
        {
          "output_type": "display_data",
          "data": {
            "text/plain": [
              "<Figure size 432x288 with 1 Axes>"
            ],
            "image/png": "[encoded data removed]"
          },
          "metadata": {
            "needs_background": "light"
          }
        }
      ]
    },
    {
      "cell_type": "code",
      "source": [
        "m=0.0020366109618458624\n",
        "q=-0.010210032245539177\n",
        "\n",
        "print((mu_302kev-q)/m)\n",
        "print((mu_356kev-q)/m)"
      ],
      "metadata": {
        "colab": {
          "base_uri": "https://localhost:8080/"
        },
        "id": "3AzZk0-vQgCq",
        "outputId": "f7381743-8d68-41d4-bca2-06301c0b36b1"
      },
      "execution_count": 268,
      "outputs": [
        {
          "output_type": "stream",
          "name": "stdout",
          "text": [
            "230.2796128100384\n",
            "242.08461069712743\n"
          ]
        }
      ]
    }
  ]
}
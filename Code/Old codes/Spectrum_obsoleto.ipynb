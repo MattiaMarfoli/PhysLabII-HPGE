{
  "nbformat": 4,
  "nbformat_minor": 0,
  "metadata": {
    "colab": {
      "name": "Spectrum.ipynb",
      "provenance": [],
      "collapsed_sections": []
    },
    "kernelspec": {
      "name": "python3",
      "display_name": "Python 3"
    },
    "language_info": {
      "name": "python"
    }
  },
  "cells": [
    {
      "cell_type": "code",
      "execution_count": 1,
      "metadata": {
        "id": "TvrprzS2iDQ2"
      },
      "outputs": [],
      "source": [
        "#librerie\n",
        "import numpy as np\n",
        "import matplotlib.pyplot as plt\n",
        "import xml.etree.ElementTree as ET\n",
        "from google.colab import drive\n",
        "from scipy import integrate"
      ]
    },
    {
      "cell_type": "code",
      "source": [
        "drive.mount('/content/drive')"
      ],
      "metadata": {
        "colab": {
          "base_uri": "https://localhost:8080/"
        },
        "id": "7qz4wsZqiJtK",
        "outputId": "6d454a04-56dd-43bf-9a4a-bcb5332556b6"
      },
      "execution_count": 18,
      "outputs": [
        {
          "output_type": "stream",
          "name": "stdout",
          "text": [
            "Drive already mounted at /content/drive; to attempt to forcibly remount, call drive.mount(\"/content/drive\", force_remount=True).\n"
          ]
        }
      ]
    },
    {
      "cell_type": "code",
      "source": [
        "path_to_file=\"drive/MyDrive/Lab HPGE/Data not working/Ge1rs.xml\"  #change this \n",
        "\n",
        "\n",
        "\n",
        "tree = ET.parse(path_to_file) \n",
        "root=tree.getroot()"
      ],
      "metadata": {
        "id": "UqXncoAMkVmp"
      },
      "execution_count": 2,
      "outputs": []
    },
    {
      "cell_type": "code",
      "source": [
        "list=[]\n",
        "\n",
        "#output of the code below: a list of events and each event is a list of 8192 samples  \n",
        "\n",
        "for event in root.findall(\"event\"):  #this finds all the event in the file\n",
        "    string_event=event.find(\"trace\").text  #this takes all the samples for each event\n",
        "    int_event=[int(string_number) for string_number in string_event.split()] #splitting and casting to int\n",
        "    list.append(int_event)\n",
        "    #if(len(list)>15000):\n",
        "    #    break                      this part was useed to manually undersample the Nai_Cesio1.xml file (too big) "
      ],
      "metadata": {
        "id": "G09AeW5hlQai"
      },
      "execution_count": 3,
      "outputs": []
    },
    {
      "cell_type": "code",
      "source": [
        "sample_space=10e-9 #10 ns\n",
        "samples_per_event=len(list[0]) # 8192\n",
        "\n",
        "evento=90 #pick an event to plot below\n",
        "\n",
        "x=np.linspace(sample_space,samples_per_event*sample_space,samples_per_event)  # from 10 ns to 8192*10 ns \n",
        "z=np.linspace(1,len(list[evento]),num=len(list[evento])) # from 1 to 8192"
      ],
      "metadata": {
        "id": "QxxGlaFTsQlQ"
      },
      "execution_count": 4,
      "outputs": []
    },
    {
      "cell_type": "code",
      "source": [
        "list_event=np.array(list) # casting to a numpy array"
      ],
      "metadata": {
        "id": "ESl1PKYu02k-"
      },
      "execution_count": 5,
      "outputs": []
    },
    {
      "cell_type": "code",
      "source": [
        "# RUN THIS ONLY FOR NaI and if you want to rotate the plot otherwise just skip this block\n",
        "background_value_NaI=list_event[0,0] \n",
        "list_event-=background_value_NaI             #don't know if this is usefull for the Nai part \n",
        "list_event*=(-1)"
      ],
      "metadata": {
        "id": "P8S7ickO0l72"
      },
      "execution_count": 63,
      "outputs": []
    },
    {
      "cell_type": "code",
      "source": [
        "plt.plot(x,list_event[evento])"
      ],
      "metadata": {
        "colab": {
          "base_uri": "https://localhost:8080/",
          "height": 300
        },
        "id": "G2o8VJovyGam",
        "outputId": "ce57eab3-128d-486d-b48b-387f09185595"
      },
      "execution_count": 6,
      "outputs": [
        {
          "output_type": "execute_result",
          "data": {
            "text/plain": [
              "[<matplotlib.lines.Line2D at 0x7f55cd199750>]"
            ]
          },
          "metadata": {},
          "execution_count": 6
        },
        {
          "output_type": "display_data",
          "data": {
            "text/plain": [
              "<Figure size 432x288 with 1 Axes>"
            ],
            "image/png": "[encoded data removed]"
          },
          "metadata": {
            "needs_background": "light"
          }
        }
      ]
    },
    {
      "cell_type": "code",
      "source": [
        "#integral of each event \n",
        "values_integrals=[integrate.trapz(event,x) for event in list]"
      ],
      "metadata": {
        "id": "krSNuByVyBNX"
      },
      "execution_count": 16,
      "outputs": []
    },
    {
      "cell_type": "code",
      "source": [
        "#histogram of the spectrum\n",
        "\n",
        "numb_bins=500  #try to change this maybe\n",
        "\n",
        "plt.hist(values_integrals,bins=numb_bins,histtype=\"step\")\n",
        "plt.ylim(0,250)   #to cut the y axis \n",
        "plt.xlim(0.65,0.9)"
      ],
      "metadata": {
        "colab": {
          "base_uri": "https://localhost:8080/",
          "height": 287
        },
        "id": "xfetIgnnvE6v",
        "outputId": "6f194d64-ac05-466b-9613-ae648ae90f37"
      },
      "execution_count": 18,
      "outputs": [
        {
          "output_type": "execute_result",
          "data": {
            "text/plain": [
              "(0.65, 0.9)"
            ]
          },
          "metadata": {},
          "execution_count": 18
        },
        {
          "output_type": "display_data",
          "data": {
            "text/plain": [
              "<Figure size 432x288 with 1 Axes>"
            ],
            "image/png": "[encoded data removed]"
          },
          "metadata": {
            "needs_background": "light"
          }
        }
      ]
    }
  ]
}